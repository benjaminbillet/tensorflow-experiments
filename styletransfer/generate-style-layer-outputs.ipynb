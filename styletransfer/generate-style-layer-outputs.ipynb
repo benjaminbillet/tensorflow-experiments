{
 "cells": [
  {
   "cell_type": "code",
   "execution_count": null,
   "metadata": {},
   "outputs": [],
   "source": [
    "from __future__ import absolute_import, division, print_function, unicode_literals\n",
    "\n",
    "import tensorflow as tf\n",
    "\n",
    "import matplotlib.pyplot as plt\n",
    "import matplotlib as mpl\n",
    "mpl.rcParams['figure.figsize'] = (12,12)\n",
    "mpl.rcParams['axes.grid'] = False\n",
    "\n",
    "from util import imshow, load_img, save_img, apply_lum, match_lum\n",
    "from model import StyleTransferModel\n",
    "from losses import style_loss\n",
    "from train import train\n",
    "\n",
    "# https://images1.novica.net/pictures/10/p348189_2a.jpg, https://www.novica.com/p/impressionist-painting-in-delod-pangkung/348189/\n",
    "style_path = tf.keras.utils.get_file('impressionist-bali.jpg','file:///home/jupyter/pictures/impressionist-bali.jpg')\n",
    "\n",
    "style_img = load_img(style_path, max_dim=512)\n",
    "imshow(style_img, 'Style Image')\n",
    "\n",
    "plt.show()"
   ]
  },
  {
   "cell_type": "code",
   "execution_count": null,
   "metadata": {},
   "outputs": [],
   "source": [
    "# reconstruct style, for every layer\n",
    "style_layers = ['block1_conv1',\n",
    "                'block2_conv1',\n",
    "                'block3_conv1', \n",
    "                'block4_conv1', \n",
    "                'block5_conv1']\n",
    "\n",
    "\n",
    "for idx in range(len(style_layers)):\n",
    "    extractor = StyleTransferModel(style_layers[:idx+1], ['block1_conv1'])\n",
    "\n",
    "    style_targets = extractor(style_img)['style']\n",
    "    style_weights = [ 1.0, 1.0, 1.0, 1.0, 1.0 ]\n",
    "    style_weights = style_weights[:idx+1]\n",
    "    style_weights = [ w/sum(style_weights) for w in style_weights ] # normalize weights\n",
    "\n",
    "    # initialize the gradients with random noise\n",
    "    initial_gradients = tf.Variable(tf.random.uniform(style_img.shape))\n",
    "\n",
    "    def loss_func(image):\n",
    "        outputs = extractor(image)\n",
    "        loss = style_loss(outputs['style'], style_targets, style_weights)\n",
    "        return loss\n",
    "\n",
    "    result = train(loss_func, extractor, initial_gradients, epochs=20)\n",
    "\n",
    "    save_img(result[0], 'style_{}.png'.format(style_layers[idx]))"
   ]
  },
  {
   "cell_type": "code",
   "execution_count": null,
   "metadata": {},
   "outputs": [],
   "source": []
  }
 ],
 "metadata": {
  "accelerator": "GPU",
  "colab": {
   "collapsed_sections": [],
   "name": "Neural style transfer",
   "private_outputs": true,
   "provenance": [],
   "toc_visible": true,
   "version": "0.3.2"
  },
  "kernelspec": {
   "display_name": "Python 3",
   "language": "python",
   "name": "python3"
  },
  "language_info": {
   "codemirror_mode": {
    "name": "ipython",
    "version": 3
   },
   "file_extension": ".py",
   "mimetype": "text/x-python",
   "name": "python",
   "nbconvert_exporter": "python",
   "pygments_lexer": "ipython3",
   "version": "3.5.3"
  }
 },
 "nbformat": 4,
 "nbformat_minor": 2
}
