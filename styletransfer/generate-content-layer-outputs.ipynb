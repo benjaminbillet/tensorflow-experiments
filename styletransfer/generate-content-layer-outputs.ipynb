{
 "cells": [
  {
   "cell_type": "code",
   "execution_count": null,
   "metadata": {},
   "outputs": [],
   "source": [
    "from __future__ import absolute_import, division, print_function, unicode_literals\n",
    "\n",
    "import tensorflow as tf\n",
    "\n",
    "import matplotlib.pyplot as plt\n",
    "import matplotlib as mpl\n",
    "mpl.rcParams['figure.figsize'] = (12,12)\n",
    "mpl.rcParams['axes.grid'] = False\n",
    "\n",
    "from util import imshow, load_img, save_img, apply_lum, match_lum\n",
    "from model import StyleTransferModel\n",
    "from losses import content_loss\n",
    "from train import train\n",
    "\n",
    "# https://www.positive.news/wp-content/uploads/2019/03/feat-1800x0-c-center.jpg\n",
    "content_path = tf.keras.utils.get_file('forest.jpg','file:///home/jupyter/pictures/forest.jpg')\n",
    "\n",
    "content_img = load_img(content_path, max_dim=512)\n",
    "imshow(content_img, 'Content Image')\n",
    "\n",
    "plt.show()"
   ]
  },
  {
   "cell_type": "code",
   "execution_count": null,
   "metadata": {},
   "outputs": [],
   "source": [
    "# reconstruct content, for every layer\n",
    "content_layers = ['block1_conv1',\n",
    "                  'block2_conv1',\n",
    "                  'block3_conv1', \n",
    "                  'block4_conv1', \n",
    "                  'block5_conv1']\n",
    "\n",
    "for content_layer in content_layers:\n",
    "    extractor = StyleTransferModel(['block1_conv1'], [content_layer])\n",
    "\n",
    "    content_targets = extractor(content_img)['content']\n",
    "    content_weights = [1.0]\n",
    "\n",
    "    # initialize the gradients with random noise\n",
    "    initial_gradients = tf.Variable(tf.random.uniform(content_img.shape))\n",
    "\n",
    "    def loss_func(image):\n",
    "        outputs = extractor(image)\n",
    "        loss = content_loss(outputs['content'], content_targets, content_weights)\n",
    "        return loss\n",
    "\n",
    "    result = train(loss_func, extractor, initial_gradients, epochs=20)\n",
    "\n",
    "    save_img(result[0], 'content_{}.png'.format(content_layer))"
   ]
  },
  {
   "cell_type": "code",
   "execution_count": null,
   "metadata": {},
   "outputs": [],
   "source": [
    "for i, content_layer in enumerate(content_layers):\n",
    "    plt.subplot(3, 2, i+1)\n",
    "    img = load_img('output/content_{}.png'.format(content_layer), max_dim=512)\n",
    "    imshow(result, 'Content Layer {}'.format(content_layer))"
   ]
  },
  {
   "cell_type": "code",
   "execution_count": null,
   "metadata": {},
   "outputs": [],
   "source": []
  }
 ],
 "metadata": {
  "accelerator": "GPU",
  "colab": {
   "collapsed_sections": [],
   "name": "Neural style transfer",
   "private_outputs": true,
   "provenance": [],
   "toc_visible": true,
   "version": "0.3.2"
  },
  "kernelspec": {
   "display_name": "Python 3",
   "language": "python",
   "name": "python3"
  },
  "language_info": {
   "codemirror_mode": {
    "name": "ipython",
    "version": 3
   },
   "file_extension": ".py",
   "mimetype": "text/x-python",
   "name": "python",
   "nbconvert_exporter": "python",
   "pygments_lexer": "ipython3",
   "version": "3.5.3"
  }
 },
 "nbformat": 4,
 "nbformat_minor": 2
}
